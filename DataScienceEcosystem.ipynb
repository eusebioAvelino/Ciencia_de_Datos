{
 "cells": [
  {
   "cell_type": "markdown",
   "id": "88b0908d-85fb-49db-b351-0104065b7ef3",
   "metadata": {},
   "source": [
    "# Herramientas y el Ecosistema de Ciencia de Datos\n"
   ]
  },
  {
   "cell_type": "markdown",
   "id": "dd6ba074-b5f5-4993-a65e-085c59b43b41",
   "metadata": {},
   "source": [
    "En este notebook, se resumen las Herramientas y el Ecosistema de Ciencia de Datos"
   ]
  },
  {
   "cell_type": "markdown",
   "id": "58dfc125-772f-4685-b4e4-52a0882b7f0f",
   "metadata": {},
   "source": [
    "**Objetivos:**  \n",
    "\n",
    "- Describir las capacidades de **R** y el entorno **RStudio**:  \n",
    " \n",
    "\n",
    "- Utilizar la función de trazado incorporada en **R**:  \n",
    " \n",
    "- Explicar **control de versiones** y describir el entorno **Git** y **GitHub**:  \n",
    "   \n",
    "\n",
    "- Describir el propósito de los **repositorios de fuentes** y cómo **GitHub** satisface estas necesidades:  \n",
    " \n",
    "- Explicar cómo **crear una cuenta de GitHub** y describir la creación de un repositorio:  \n",
    "   "
   ]
  },
  {
   "cell_type": "markdown",
   "id": "1670e7cd-4735-4fdd-b13b-8b3d47da325c",
   "metadata": {},
   "source": [
    "Algunos de los lenguajes populares que usan los Científicos de Datos son:  \r\n",
    "1. Python  \r\n",
    "2. R  \r\n",
    "3. SQL  \r\n",
    "4. Julia  "
   ]
  },
  {
   "cell_type": "markdown",
   "id": "9c5bd5d6-3621-4108-9211-a4d72e574997",
   "metadata": {},
   "source": [
    "Algunas de las bibliotecas comúnmente usadas por los Científicos de Datos incluyen:  \r\n",
    "\r\n",
    "1. Pandas  \r\n",
    "2. NumPy  \r\n",
    "3. Matplotlib  \r\n",
    "4. Scikit-learn  \r\n",
    "5. TensorFlow  \r\n",
    "6. PyTorch  "
   ]
  },
  {
   "cell_type": "markdown",
   "id": "e11f44e8-97f2-405d-9359-a6eee67bf79f",
   "metadata": {},
   "source": [
    "| Herramientas de Ciencia de Datos |\n",
    "|-----------------------------------|\n",
    "| Jupyter Notebook                 |\n",
    "| RStudio                          |\n",
    "| Visual Studio Code (VS Code)     |"
   ]
  },
  {
   "cell_type": "markdown",
   "id": "cff84e81-3f6f-4309-99dc-c2bc85499965",
   "metadata": {},
   "source": [
    "### A continuación, algunos ejemplos de evaluación de expresiones aritméticas en Python:"
   ]
  },
  {
   "cell_type": "code",
   "execution_count": 12,
   "id": "30521a9d-e03b-4e26-b35b-354f6b0efe3a",
   "metadata": {},
   "outputs": [
    {
     "data": {
      "text/plain": [
       "17"
      ]
     },
     "execution_count": 12,
     "metadata": {},
     "output_type": "execute_result"
    }
   ],
   "source": [
    "# Esta es una expresión aritmética simple para multiplicar y luego sumar enteros.\n",
    "(3 * 4) + 5"
   ]
  },
  {
   "cell_type": "code",
   "execution_count": 13,
   "id": "58530705-156a-4b55-adc3-889c679e140d",
   "metadata": {},
   "outputs": [
    {
     "data": {
      "text/plain": [
       "3.3333333333333335"
      ]
     },
     "execution_count": 13,
     "metadata": {},
     "output_type": "execute_result"
    }
   ],
   "source": [
    "# Esto convertirá 200 minutos a horas dividiendo por 60.\n",
    "200 / 60"
   ]
  },
  {
   "cell_type": "markdown",
   "id": "4332f0a1-773e-43b4-b3f5-86320eaa52f4",
   "metadata": {},
   "source": [
    "## Autor  \n",
    "Eusebio Avelino"
   ]
  },
  {
   "cell_type": "code",
   "execution_count": null,
   "id": "65d091d4-539c-43ed-9458-dc1e241b5048",
   "metadata": {},
   "outputs": [],
   "source": []
  }
 ],
 "metadata": {
  "kernelspec": {
   "display_name": "Python 3 (ipykernel)",
   "language": "python",
   "name": "python3"
  },
  "language_info": {
   "codemirror_mode": {
    "name": "ipython",
    "version": 3
   },
   "file_extension": ".py",
   "mimetype": "text/x-python",
   "name": "python",
   "nbconvert_exporter": "python",
   "pygments_lexer": "ipython3",
   "version": "3.11.6"
  }
 },
 "nbformat": 4,
 "nbformat_minor": 5
}
